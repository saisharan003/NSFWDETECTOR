{
  "nbformat": 4,
  "nbformat_minor": 0,
  "metadata": {
    "colab": {
      "provenance": [],
      "authorship_tag": "ABX9TyPopm2YLGP3BWK0uWQvKIsd",
      "include_colab_link": true
    },
    "kernelspec": {
      "name": "python3",
      "display_name": "Python 3"
    },
    "language_info": {
      "name": "python"
    }
  },
  "cells": [
    {
      "cell_type": "markdown",
      "metadata": {
        "id": "view-in-github",
        "colab_type": "text"
      },
      "source": [
        "<a href=\"https://colab.research.google.com/gist/saisharan003/91e085e994e26bbb47771143f034fc7f/nsfwdetector.ipynb\" target=\"_parent\"><img src=\"https://colab.research.google.com/assets/colab-badge.svg\" alt=\"Open In Colab\"/></a>"
      ]
    },
    {
      "cell_type": "code",
      "execution_count": null,
      "metadata": {
        "id": "u4S4ZCX_Wn1c"
      },
      "outputs": [],
      "source": [
        "!pip install opennsfw2 pillow"
      ]
    },
    {
      "cell_type": "code",
      "source": [
        "import opennsfw2 as n2\n",
        "from PIL import Image\n",
        "from google.colab import files"
      ],
      "metadata": {
        "id": "Oc9lG0HoXEti"
      },
      "execution_count": null,
      "outputs": []
    },
    {
      "cell_type": "code",
      "source": [
        "print(\"👉 Upload an image (jpg/png)...\")\n",
        "uploaded = files.upload()\n",
        "for fn in uploaded.keys():\n",
        "    print(\"Loading\", fn)\n",
        "    img = Image.open(fn).convert(\"RGB\")\n",
        "    score = n2.predict_image(img)\n",
        "    print(f\"📊 NSFW Score: {score:.2f} (1 = unsafe)\")\n",
        "\n",
        "    if score >= 0.7:\n",
        "        print(\"🚩 Flagged for review (score ≥ 0.7)\")\n",
        "    else:\n",
        "        print(\"✅ Auto-approved (score < 0.7)\")\n",
        "\n",
        "    decision = input(\"Manual decision? Type 'approve' or 'reject' (or enter to skip): \").strip().lower()\n",
        "    if decision == \"approve\":\n",
        "        print(\"👍 You approved this image.\")\n",
        "    elif decision == \"reject\":\n",
        "        print(\"✋ You rejected this image.\")\n",
        "    else:\n",
        "        print(\"⏭️ No manual override - using AI result.\")\n",
        "\n",
        "print(\"📝 Done. You can upload and process another image.\")"
      ],
      "metadata": {
        "id": "jRCBhYKPXH24"
      },
      "execution_count": null,
      "outputs": []
    }
  ]
}